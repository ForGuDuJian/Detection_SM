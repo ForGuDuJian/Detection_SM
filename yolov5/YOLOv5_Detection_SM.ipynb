{
 "cells": [
  {
   "cell_type": "markdown",
   "id": "db2089f9",
   "metadata": {},
   "source": [
    "# Train the model"
   ]
  },
  {
   "cell_type": "code",
   "execution_count": 1,
   "id": "32cf11bb",
   "metadata": {},
   "outputs": [
    {
     "name": "stderr",
     "output_type": "stream",
     "text": [
      "python: can't open file 'C:\\\\Users\\\\Meng\\\\Documents\\\\train.py': [Errno 2] No such file or directory\n"
     ]
    }
   ],
   "source": [
    "#train \n",
    "!python train.py \\\n",
    "--project 'XXX' \\\n",
    "--name 'XXX' \\\n",
    "--weights '' \\\n",
    "--cfg models/yolov5x.yaml \\\n",
    "--data data/XXX.yaml \\\n",
    "--imgsz 640 \\\n",
    "--epochs 1000 \\\n",
    "--batch-size 32\\\n",
    "--workers 8 \\\n",
    "--patience 100 \\\n",
    "--hyp data/hyps/hyp.no-augmentation.yaml"
   ]
  },
  {
   "cell_type": "markdown",
   "id": "77b6bde4",
   "metadata": {},
   "source": [
    "# Output the results"
   ]
  },
  {
   "cell_type": "code",
   "execution_count": 2,
   "id": "528e1163",
   "metadata": {},
   "outputs": [
    {
     "name": "stderr",
     "output_type": "stream",
     "text": [
      "python: can't open file 'C:\\\\Users\\\\Meng\\\\Documents\\\\val.py': [Errno 2] No such file or directory\n",
      "python: can't open file 'C:\\\\Users\\\\Meng\\\\Documents\\\\val.py': [Errno 2] No such file or directory\n"
     ]
    }
   ],
   "source": [
    "# train\n",
    "!python val.py \\\n",
    "--project 'XXX' \\\n",
    "--name 'train' \\\n",
    "--weights 'XXX/weights/best.pt' \\\n",
    "--data 'data/XXX.yaml' \\\n",
    "--imgsz 640 \\\n",
    "--batch-size 32\\\n",
    "--task train \\\n",
    "--workers 8 \\\n",
    "--save-conf \\\n",
    "--save-txt\n",
    "\n",
    "# validation\n",
    "!python val.py \\\n",
    "--project '' \\\n",
    "--name 'val' \\\n",
    "--weights 'XXX/weights/best.pt' \\\n",
    "--data 'data/XXX.yaml' \\\n",
    "--imgsz 640 \\\n",
    "--batch-size 32\\\n",
    "--task val \\\n",
    "--workers 8 \\\n",
    "--save-conf \\\n",
    "--save-txt"
   ]
  }
 ],
 "metadata": {
  "kernelspec": {
   "display_name": "Python 3 (ipykernel)",
   "language": "python",
   "name": "python3"
  },
  "language_info": {
   "codemirror_mode": {
    "name": "ipython",
    "version": 3
   },
   "file_extension": ".py",
   "mimetype": "text/x-python",
   "name": "python",
   "nbconvert_exporter": "python",
   "pygments_lexer": "ipython3",
   "version": "3.11.5"
  }
 },
 "nbformat": 4,
 "nbformat_minor": 5
}
