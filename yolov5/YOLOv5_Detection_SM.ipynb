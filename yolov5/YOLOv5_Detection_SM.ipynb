{
 "cells": [
  {
   "cell_type": "markdown",
   "source": [
    "Train the model"
   ],
   "metadata": {
    "collapsed": false
   },
   "id": "24530ff3fd9f0345"
  },
  {
   "cell_type": "code",
   "outputs": [],
   "source": [
    "#train \n",
    "!python train.py \\\n",
    "--project 'XXX' \\\n",
    "--name 'XXX' \\\n",
    "--weights '' \\\n",
    "--cfg models/yolov5x.yaml \\\n",
    "--data data/XXX.yaml \\\n",
    "--imgsz 640 \\\n",
    "--epochs 1000 \\\n",
    "--batch-size 32\\\n",
    "--workers 8 \\\n",
    "--patience 100 \\\n",
    "--hyp data/hyps/hyp.no-augmentation.yaml"
   ],
   "metadata": {
    "collapsed": false
   },
   "id": "4cd63701f0aca914"
  },
  {
   "cell_type": "markdown",
   "source": [
    "Output the results"
   ],
   "metadata": {
    "collapsed": false
   },
   "id": "b771b10547c49784"
  },
  {
   "cell_type": "code",
   "outputs": [],
   "source": [
    "# train\n",
    "!python val.py \\\n",
    "--project 'XXX' \\\n",
    "--name 'train' \\\n",
    "--weights 'XXX/weights/best.pt' \\\n",
    "--data 'data/XXX.yaml' \\\n",
    "--imgsz 640 \\\n",
    "--batch-size 32\\\n",
    "--task train \\\n",
    "--workers 8 \\\n",
    "--save-conf \\\n",
    "--save-txt\n",
    "\n",
    "# validation\n",
    "!python val.py \\\n",
    "--project '' \\\n",
    "--name 'val' \\\n",
    "--weights 'XXX/weights/best.pt' \\\n",
    "--data 'data/XXX.yaml' \\\n",
    "--imgsz 640 \\\n",
    "--batch-size 32\\\n",
    "--task val \\\n",
    "--workers 8 \\\n",
    "--save-conf \\\n",
    "--save-txt"
   ],
   "metadata": {
    "collapsed": false
   },
   "id": "867230bec7baf463"
  }
 ],
 "metadata": {
  "kernelspec": {
   "display_name": "Python 3",
   "language": "python",
   "name": "python3"
  },
  "language_info": {
   "codemirror_mode": {
    "name": "ipython",
    "version": 2
   },
   "file_extension": ".py",
   "mimetype": "text/x-python",
   "name": "python",
   "nbconvert_exporter": "python",
   "pygments_lexer": "ipython2",
   "version": "2.7.6"
  }
 },
 "nbformat": 4,
 "nbformat_minor": 5
}
